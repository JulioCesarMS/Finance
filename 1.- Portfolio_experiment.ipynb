{
 "cells": [
  {
   "cell_type": "markdown",
   "metadata": {},
   "source": [
    "# Portfolio Experiment"
   ]
  },
  {
   "cell_type": "code",
   "execution_count": 6,
   "metadata": {
    "vscode": {
     "languageId": "r"
    }
   },
   "outputs": [],
   "source": [
    "library('dplyr')\n",
    "library('ggplot2')\n",
    "#install.packages('mbend')\n",
    "library('abind')\n",
    "library('deSolve')\n",
    "library('matrixcalc')\n",
    "library('mbend')\n",
    "library('readr')"
   ]
  },
  {
   "cell_type": "code",
   "execution_count": 15,
   "metadata": {
    "vscode": {
     "languageId": "r"
    }
   },
   "outputs": [],
   "source": [
    "source('PortfolioFunctions_v8.R')"
   ]
  },
  {
   "cell_type": "markdown",
   "metadata": {},
   "source": [
    "##  Reading datasets"
   ]
  },
  {
   "cell_type": "code",
   "execution_count": 16,
   "metadata": {
    "vscode": {
     "languageId": "r"
    }
   },
   "outputs": [
    {
     "data": {
      "text/html": [
       "<style>\n",
       ".list-inline {list-style: none; margin:0; padding: 0}\n",
       ".list-inline>li {display: inline-block}\n",
       ".list-inline>li:not(:last-child)::after {content: \"\\00b7\"; padding: 0 .5ex}\n",
       "</style>\n",
       "<ol class=list-inline><li>'Date'</li><li>'IIF'</li><li>'MCI'</li><li>'JHS'</li><li>'MFL'</li><li>'DSU'</li><li>'MFM'</li><li>'HIX'</li><li>'BSD'</li><li>'HQL'</li><li>'EVN'</li><li>'SWZ'</li><li>'MZA'</li><li>'IIM'</li><li>'NAZ'</li><li>'MIY'</li><li>'CXH'</li><li>'VBF'</li><li>'NUV'</li><li>'VLT'</li><li>'NAC'</li><li>'MIN'</li><li>'MCR'</li><li>'ASA'</li><li>'VPV'</li><li>'EVF'</li><li>'MQT'</li><li>'NUO'</li><li>'VKQ'</li><li>'GUT'</li><li>'KTF'</li></ol>\n"
      ],
      "text/latex": [
       "\\begin{enumerate*}\n",
       "\\item 'Date'\n",
       "\\item 'IIF'\n",
       "\\item 'MCI'\n",
       "\\item 'JHS'\n",
       "\\item 'MFL'\n",
       "\\item 'DSU'\n",
       "\\item 'MFM'\n",
       "\\item 'HIX'\n",
       "\\item 'BSD'\n",
       "\\item 'HQL'\n",
       "\\item 'EVN'\n",
       "\\item 'SWZ'\n",
       "\\item 'MZA'\n",
       "\\item 'IIM'\n",
       "\\item 'NAZ'\n",
       "\\item 'MIY'\n",
       "\\item 'CXH'\n",
       "\\item 'VBF'\n",
       "\\item 'NUV'\n",
       "\\item 'VLT'\n",
       "\\item 'NAC'\n",
       "\\item 'MIN'\n",
       "\\item 'MCR'\n",
       "\\item 'ASA'\n",
       "\\item 'VPV'\n",
       "\\item 'EVF'\n",
       "\\item 'MQT'\n",
       "\\item 'NUO'\n",
       "\\item 'VKQ'\n",
       "\\item 'GUT'\n",
       "\\item 'KTF'\n",
       "\\end{enumerate*}\n"
      ],
      "text/markdown": [
       "1. 'Date'\n",
       "2. 'IIF'\n",
       "3. 'MCI'\n",
       "4. 'JHS'\n",
       "5. 'MFL'\n",
       "6. 'DSU'\n",
       "7. 'MFM'\n",
       "8. 'HIX'\n",
       "9. 'BSD'\n",
       "10. 'HQL'\n",
       "11. 'EVN'\n",
       "12. 'SWZ'\n",
       "13. 'MZA'\n",
       "14. 'IIM'\n",
       "15. 'NAZ'\n",
       "16. 'MIY'\n",
       "17. 'CXH'\n",
       "18. 'VBF'\n",
       "19. 'NUV'\n",
       "20. 'VLT'\n",
       "21. 'NAC'\n",
       "22. 'MIN'\n",
       "23. 'MCR'\n",
       "24. 'ASA'\n",
       "25. 'VPV'\n",
       "26. 'EVF'\n",
       "27. 'MQT'\n",
       "28. 'NUO'\n",
       "29. 'VKQ'\n",
       "30. 'GUT'\n",
       "31. 'KTF'\n",
       "\n",
       "\n"
      ],
      "text/plain": [
       " [1] \"Date\" \"IIF\"  \"MCI\"  \"JHS\"  \"MFL\"  \"DSU\"  \"MFM\"  \"HIX\"  \"BSD\"  \"HQL\" \n",
       "[11] \"EVN\"  \"SWZ\"  \"MZA\"  \"IIM\"  \"NAZ\"  \"MIY\"  \"CXH\"  \"VBF\"  \"NUV\"  \"VLT\" \n",
       "[21] \"NAC\"  \"MIN\"  \"MCR\"  \"ASA\"  \"VPV\"  \"EVF\"  \"MQT\"  \"NUO\"  \"VKQ\"  \"GUT\" \n",
       "[31] \"KTF\" "
      ]
     },
     "metadata": {},
     "output_type": "display_data"
    }
   ],
   "source": [
    "# Reading datasets\n",
    "down <- read.csv('df_down_1999.csv') %>%\n",
    "  mutate(Date=as.Date(Date, format = \"%Y-%m-%d\")) %>% \n",
    "  filter(Date >= '2000-01-01')\n",
    "\n",
    "ftse100 <- read.csv('df_FTSE_1999.csv')%>%\n",
    "  mutate(Date=as.Date(Date, format = \"%Y-%m-%d\")) %>% \n",
    "  filter(Date >= '2000-01-01')\n",
    "\n",
    "dax <- read.csv('df_DAX_1999.csv')%>%\n",
    "  mutate(Date=as.Date(Date, format = \"%Y-%m-%d\")) %>% \n",
    "  filter(Date >= '2000-01-01') \n",
    "\n",
    "\n",
    "sp500 <- read.csv('df_S&P500_1999.csv')%>%\n",
    "  mutate(Date=as.Date(Date, format = \"%Y-%m-%d\")) %>% \n",
    "  filter(Date >= '2000-01-01')  \n",
    "\n",
    "nasdaq <- read.csv('df_NASDAQ_1999.csv')%>%\n",
    "  mutate(Date=as.Date(Date, format = \"%d/%m/%Y\")) %>% \n",
    "  filter(Date >= '2000-01-01') %>% \n",
    "  select(-HSKA)\n",
    "\n",
    "nasdaqETF <- read.csv('df_NASDAQ.ETF_1999.csv')%>%\n",
    "  mutate(Date=as.Date(Date, format = \"%d/%m/%Y\")) %>% \n",
    "  filter(Date >= '2000-01-01') \n",
    "\n",
    "nyse <- read.csv('df_NYSE_1999.csv')%>%\n",
    "  mutate(Date=as.Date(Date, format = \"%d/%m/%Y\")) %>% \n",
    "  filter(Date >= '2000-01-01') %>% select(-AIG, -BAC, -AEG, -BIG, -BDN, -BBVA, -AWR, -AME, -AFL)\n",
    "colnames(nasdaqETF)\n"
   ]
  },
  {
   "cell_type": "code",
   "execution_count": null,
   "metadata": {
    "vscode": {
     "languageId": "r"
    }
   },
   "outputs": [],
   "source": [
    "################################################################################\n",
    "######   This code generarte the dataset for multiple cases listed below   #####\n",
    "################################################################################\n",
    "# iterates the first k stocks: from 6 to 10\n",
    "top_vect <- 6:10  # stocks selected\n",
    "# iterates the period of rebalance (in months)\n",
    "period <- c(1)  # period 1 month\n",
    "# iterates the type of sort from k stocks\n",
    "sort <- c('mean')  # method of selecte stocks\n",
    "# iterates the type of covariance matrix\n",
    "matrix <- c('mv', 'exp')  # model\n",
    "# iterates the list od datasets\n",
    "df_completed <- list('down' = down,\n",
    "                     'ftse100' = ftse100, \n",
    "                     'dax'= dax,\n",
    "                     'sp500' = sp500, \n",
    "                     'nyse'= nyse,\n",
    "                     'nasdaq' = nasdaq,\n",
    "                     'nasdaqETF' = nasdaqETF)\n",
    "# iterates the respective year for each dataset\n",
    "years_start <- c('2007', '2007', '2007', '2007', '2007', '2007', '2007')\n",
    "# initial datasets\n",
    "base.portfolio.ret <- NULL\n",
    "base.portfolio.cum.ret <- NULL\n",
    "cv_mv <- list()\n",
    "cv_exp <- list()\n",
    "base.re_sd_port <- NULL\n",
    "# loop for all the iterators\n",
    "for(j in 1:length(df_completed)){\n",
    "  for(k in 1:length(period)){\n",
    "    for(l in 1:length(sort)){\n",
    "      for(i in 1:length(top_vect)){\n",
    "          # mean variance portfolio  \n",
    "          name <- paste(names(df_completed)[j], top_vect[i], sep='_')\n",
    "          port.mv <- getPortfolio(base = df_completed[[j]], \n",
    "                                  year_to_start = years_start[j], \n",
    "                                  rebalance_period = period[k], \n",
    "                                  mod = 'mv', \n",
    "                                  sorted= sort[l] , \n",
    "                                  top.k = top_vect[i])\n",
    "          # covariances\n",
    "          #cv_mv[[name]] <- port.mv$matCov\n",
    "          # lm portfolio\n",
    "          port.lm <- getPortfolio(base = df_completed[[j]], \n",
    "                                  year_to_start = years_start[j], \n",
    "                                  rebalance_period = period[k], \n",
    "                                  mod = 'exp', \n",
    "                                  sorted= sort[l] , \n",
    "                                  top.k = top_vect[i])\n",
    "          # covariances\n",
    "          #cv_exp[[name]] <- port.lm$matCov\n",
    "          #cat('Dim of CV_exp: ', dim(cv_exp),'\\n')\n",
    "          # Portfolio returns\n",
    "          names <- c('date', 'sorted_by', 'rebalance_period', 'base', 'top', 'MV', 'MV-LM', 'MV-EW')\n",
    "          portfolio.ret <- data.frame('date' = port.mv$df.port.ret$date,\n",
    "                                      'sorted_by' = sort[l],\n",
    "                                      'rebalance_period' = period[k],\n",
    "                                      'base' = names(df_completed)[j],\n",
    "                                      'top' = top_vect[i],\n",
    "                                      #'mod' = ,\n",
    "                                      'MV'= port.mv$df.port.ret$min.ret,\n",
    "                                      'MV.LM'= port.lm$df.port.ret$min.ret,\n",
    "                                      'MV.EW' = port.mv$df.port.ret$eqw.ret)\n",
    "          # portfolio expected return\n",
    "          #portfolio.re_sd <- data.frame('date' = port.mv$df_re_sd.port$date,\n",
    "          #                              'sorted_by' = sort[l],\n",
    "          #                              'rebalance_period' = period[k],\n",
    "          #                              'base' = names(df_completed)[j],\n",
    "          #                              'top' = top_vect[i],\n",
    "          #                              're.p_mv' = port.mv$df_re_sd.port$re.port,\n",
    "          #                              'sd.p_mv' = port.mv$df_re_sd.port$sd.port,\n",
    "          #                              're.p_lm' = port.lm$df_re_sd.port$re.port,\n",
    "          #                              'sd.p_mv' = port.lm$df_re_sd.port$sd.port)\n",
    "          #print(portfolio.re_sd)\n",
    "          # Cummulative returns\n",
    "          port.cum.ret <- portfolio.ret %>%\n",
    "            mutate(cum.MV = cumsum(MV),\n",
    "                   cum.MV.LM = cumsum(MV.LM),\n",
    "                   cum.MV.EW = cumsum(MV.EW)) %>%\n",
    "            dplyr::select(-MV, -MV.LM, -MV.EW)\n",
    "          ## colnames\n",
    "          colnames(portfolio.ret) <- names\n",
    "          colnames(port.cum.ret) <- names \n",
    "          # join tables\n",
    "          base.portfolio.ret <- rbind(base.portfolio.ret, portfolio.ret)\n",
    "          base.portfolio.cum.ret <- rbind(base.portfolio.cum.ret, port.cum.ret)\n",
    "          #base.re_sd_port <- rbind(base.re_sd_port, portfolio.re_sd)\n",
    "      } \n",
    "    }\n",
    "  }\n",
    "}"
   ]
  },
  {
   "cell_type": "code",
   "execution_count": 18,
   "metadata": {
    "vscode": {
     "languageId": "r"
    }
   },
   "outputs": [],
   "source": [
    "## write results\n",
    "#write_rds(base.re_sd_port, './base.portfolio.re_and_sd_2000.rds')\n",
    "write_rds(base.portfolio.ret, './base.portfolio.ret_2000_cambios.rds')\n",
    "write_rds(base.portfolio.cum.ret, './base.portfolio.cum.ret_2000_cambios.rds')\n"
   ]
  }
 ],
 "metadata": {
  "kernelspec": {
   "display_name": "R",
   "language": "R",
   "name": "ir"
  },
  "language_info": {
   "codemirror_mode": "r",
   "file_extension": ".r",
   "mimetype": "text/x-r-source",
   "name": "R",
   "pygments_lexer": "r",
   "version": "4.1.0"
  },
  "orig_nbformat": 4
 },
 "nbformat": 4,
 "nbformat_minor": 2
}
